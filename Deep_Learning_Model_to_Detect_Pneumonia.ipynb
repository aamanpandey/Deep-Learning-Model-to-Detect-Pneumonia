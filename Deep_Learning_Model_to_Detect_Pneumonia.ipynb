{
  "nbformat": 4,
  "nbformat_minor": 0,
  "metadata": {
    "colab": {
      "name": "Deep Learning Model to Detect Pneumonia.ipynb",
      "provenance": [],
      "machine_shape": "hm"
    },
    "kernelspec": {
      "name": "python3",
      "display_name": "Python 3"
    },
    "accelerator": "GPU"
  },
  "cells": [
    {
      "cell_type": "markdown",
      "metadata": {
        "id": "h1jL0LpbBJ6h",
        "colab_type": "text"
      },
      "source": [
        "# ***Chest X-Ray Images (Pneumonia) Dataset***"
      ]
    },
    {
      "cell_type": "markdown",
      "metadata": {
        "id": "lMmqeOrMBUdz",
        "colab_type": "text"
      },
      "source": [
        ""
      ]
    },
    {
      "cell_type": "code",
      "metadata": {
        "id": "k3BPbolkAMee",
        "colab_type": "code",
        "colab": {}
      },
      "source": [
        "#Chest X-Ray Images (Pneumonia)"
      ],
      "execution_count": 0,
      "outputs": []
    },
    {
      "cell_type": "markdown",
      "metadata": {
        "id": "Q15bqVXGBWte",
        "colab_type": "text"
      },
      "source": [
        "# Dataset"
      ]
    },
    {
      "cell_type": "markdown",
      "metadata": {
        "id": "VnIazifHB_4j",
        "colab_type": "text"
      },
      "source": [
        "## Description"
      ]
    },
    {
      "cell_type": "markdown",
      "metadata": {
        "id": "yfRPVLn3CCZd",
        "colab_type": "text"
      },
      "source": [
        "The dataset contains a total of  5,863 images. This is binary classification problem\n",
        "\n"
      ]
    },
    {
      "cell_type": "markdown",
      "metadata": {
        "id": "ionlU9jnBp9X",
        "colab_type": "text"
      },
      "source": [
        "## Objective"
      ]
    },
    {
      "cell_type": "markdown",
      "metadata": {
        "id": "cQm7qu8zBoPi",
        "colab_type": "text"
      },
      "source": [
        "Build classification model to detect pneumonia"
      ]
    },
    {
      "cell_type": "markdown",
      "metadata": {
        "id": "26dy9DhACgzQ",
        "colab_type": "text"
      },
      "source": [
        "# Data Preprocessing"
      ]
    },
    {
      "cell_type": "code",
      "metadata": {
        "id": "Opn-IRy2FO1-",
        "colab_type": "code",
        "colab": {}
      },
      "source": [
        "import pandas as pd\n",
        "import numpy as np"
      ],
      "execution_count": 0,
      "outputs": []
    },
    {
      "cell_type": "code",
      "metadata": {
        "id": "qTAPx6rPCk-V",
        "colab_type": "code",
        "outputId": "9a9c5423-ffa9-48e6-bdec-351ce3008227",
        "colab": {
          "base_uri": "https://localhost:8080/",
          "height": 35
        }
      },
      "source": [
        "import zipfile\n",
        "\n",
        "\n",
        "zip_files = ['data']\n",
        "# Will unzip the files so that you can see them..\n",
        "for zip_file in zip_files:\n",
        "    with zipfile.ZipFile(\"{}.zip\".format(zip_file),\"r\") as z:\n",
        "        z.extractall(\".\")\n",
        "        print(\"{} unzipped\".format(zip_file))"
      ],
      "execution_count": 0,
      "outputs": [
        {
          "output_type": "stream",
          "text": [
            "data unzipped\n"
          ],
          "name": "stdout"
        }
      ]
    },
    {
      "cell_type": "code",
      "metadata": {
        "id": "wDQ1pR1PE76P",
        "colab_type": "code",
        "colab": {}
      },
      "source": [
        "import os\n",
        "# dimensions of our images.\n",
        "img_width, img_height = 150, 150\n"
      ],
      "execution_count": 0,
      "outputs": []
    },
    {
      "cell_type": "code",
      "metadata": {
        "id": "DQ8McbUUFE8M",
        "colab_type": "code",
        "colab": {}
      },
      "source": [
        "train_data_dir = '/content/chest_xray/train'\n",
        "validation_data_dir = '/content/chest_xray/val'\n",
        "test_data_dir = '/content/chest_xray/test'"
      ],
      "execution_count": 0,
      "outputs": []
    },
    {
      "cell_type": "code",
      "metadata": {
        "id": "NSXqTXREFTN3",
        "colab_type": "code",
        "colab": {}
      },
      "source": [
        "input_shape = (img_width, img_height, 3)"
      ],
      "execution_count": 0,
      "outputs": []
    },
    {
      "cell_type": "code",
      "metadata": {
        "id": "2IaneBNZGvEe",
        "colab_type": "code",
        "outputId": "9e05f4ea-1787-47cf-e555-1d774761672c",
        "colab": {
          "base_uri": "https://localhost:8080/",
          "height": 69
        }
      },
      "source": [
        "#we are using ImageDataGenerator to read images from directories\n",
        "from keras.preprocessing.image import ImageDataGenerator\n",
        "\n",
        "train_datagen = ImageDataGenerator(rescale=1/255)\n",
        "test_datagen= ImageDataGenerator(rescale=1/255)\n",
        "valid_datagen= ImageDataGenerator(rescale=1/255)\n",
        "\n",
        "train_generator = train_datagen.flow_from_directory(\n",
        "   train_data_dir,\n",
        "     target_size=(150,150), class_mode= \"binary\",  batch_size=20)\n",
        "\n",
        "test_generator= test_datagen.flow_from_directory(\n",
        "    test_data_dir, \n",
        "     target_size=(150,150),\n",
        "    batch_size=20,\n",
        "    class_mode='binary')\n",
        "\n",
        "\n",
        "valid_generator= valid_datagen.flow_from_directory(\n",
        "   validation_data_dir , \n",
        "     target_size=(150,150),\n",
        "    batch_size=20,\n",
        "    class_mode='binary')"
      ],
      "execution_count": 0,
      "outputs": [
        {
          "output_type": "stream",
          "text": [
            "Found 5216 images belonging to 2 classes.\n",
            "Found 624 images belonging to 2 classes.\n",
            "Found 16 images belonging to 2 classes.\n"
          ],
          "name": "stdout"
        }
      ]
    },
    {
      "cell_type": "code",
      "metadata": {
        "id": "ofx6ikRUKD3i",
        "colab_type": "code",
        "outputId": "f2ea329a-ec66-44da-cfa3-58ea6df0d045",
        "colab": {
          "base_uri": "https://localhost:8080/",
          "height": 52
        }
      },
      "source": [
        "for data_batch, labels_batch in train_generator:\n",
        "  print('data batch shape:', data_batch.shape)\n",
        "  print('labels batch shape:', labels_batch.shape)\n",
        "  break"
      ],
      "execution_count": 0,
      "outputs": [
        {
          "output_type": "stream",
          "text": [
            "data batch shape: (20, 150, 150, 3)\n",
            "labels batch shape: (20,)\n"
          ],
          "name": "stdout"
        }
      ]
    },
    {
      "cell_type": "code",
      "metadata": {
        "id": "77-po7xAaSl8",
        "colab_type": "code",
        "colab": {}
      },
      "source": [
        "nb_train_samples = 5217\n",
        "nb_validation_samples = 17\n",
        "epochs = 20\n",
        "batch_size = 20"
      ],
      "execution_count": 0,
      "outputs": []
    },
    {
      "cell_type": "markdown",
      "metadata": {
        "id": "NQm0AuLOLGAB",
        "colab_type": "text"
      },
      "source": [
        "# Basic Model"
      ]
    },
    {
      "cell_type": "code",
      "metadata": {
        "id": "WAjSCQ1FK0jX",
        "colab_type": "code",
        "outputId": "4f09aaa7-a13d-4c2a-e47a-f5ea4f8e5d7d",
        "colab": {
          "base_uri": "https://localhost:8080/",
          "height": 711
        }
      },
      "source": [
        "from keras import models\n",
        "from keras import layers\n",
        "\n",
        "from keras import backend\n",
        "backend.clear_session()\n",
        "\n",
        "model=models.Sequential()\n",
        "model.add(layers.Conv2D(32, (3,3), activation=\"relu\", input_shape=(150, 150, 3)))\n",
        "model.add(layers.Conv2D(32, (3,3), activation=\"relu\"))\n",
        "model.add(layers.MaxPooling2D((2,2)))\n",
        "#model.add(layers.Dropout(0.25))\n",
        "\n",
        "model.add(layers.Conv2D(64, (3,3), activation=\"relu\"))\n",
        "model.add(layers.Conv2D(64, (3,3), activation=\"relu\"))\n",
        "#model.add(layers.BatchNormalization())\n",
        "model.add(layers.MaxPooling2D(2,2))\n",
        "#model.add(layers.Dropout(0.25))\n",
        "\n",
        "model.add(layers.Conv2D(128, (3,3), activation=\"relu\"))\n",
        "model.add(layers.Conv2D(128, (3,3), activation=\"relu\"))\n",
        "#model.add(layers.BatchNormalization())\n",
        "model.add(layers.MaxPooling2D((2,2)))\n",
        "#model.add(layers.Dropout(0.25))\n",
        "\n",
        "model.add(layers.Conv2D(64, (3,3), activation=\"relu\"))\n",
        "model.add(layers.Conv2D(64, (3,3), activation=\"relu\"))\n",
        "#model.add(layers.BatchNormalization())\n",
        "model.add(layers.MaxPooling2D((2,2)))\n",
        "#model.add(layers.Dropout(0.25))\n",
        "model.add(layers.Flatten())\n",
        "model.add(layers.Dense(512, activation=\"relu\"))\n",
        "model.add(layers.Dropout(0.5))\n",
        "model.add(layers.Dense(1, activation=\"sigmoid\"))\n",
        "model.summary()"
      ],
      "execution_count": 0,
      "outputs": [
        {
          "output_type": "stream",
          "text": [
            "Model: \"sequential_1\"\n",
            "_________________________________________________________________\n",
            "Layer (type)                 Output Shape              Param #   \n",
            "=================================================================\n",
            "conv2d_1 (Conv2D)            (None, 148, 148, 32)      896       \n",
            "_________________________________________________________________\n",
            "conv2d_2 (Conv2D)            (None, 146, 146, 32)      9248      \n",
            "_________________________________________________________________\n",
            "max_pooling2d_1 (MaxPooling2 (None, 73, 73, 32)        0         \n",
            "_________________________________________________________________\n",
            "conv2d_3 (Conv2D)            (None, 71, 71, 64)        18496     \n",
            "_________________________________________________________________\n",
            "conv2d_4 (Conv2D)            (None, 69, 69, 64)        36928     \n",
            "_________________________________________________________________\n",
            "max_pooling2d_2 (MaxPooling2 (None, 34, 34, 64)        0         \n",
            "_________________________________________________________________\n",
            "conv2d_5 (Conv2D)            (None, 32, 32, 128)       73856     \n",
            "_________________________________________________________________\n",
            "conv2d_6 (Conv2D)            (None, 30, 30, 128)       147584    \n",
            "_________________________________________________________________\n",
            "max_pooling2d_3 (MaxPooling2 (None, 15, 15, 128)       0         \n",
            "_________________________________________________________________\n",
            "conv2d_7 (Conv2D)            (None, 13, 13, 64)        73792     \n",
            "_________________________________________________________________\n",
            "conv2d_8 (Conv2D)            (None, 11, 11, 64)        36928     \n",
            "_________________________________________________________________\n",
            "max_pooling2d_4 (MaxPooling2 (None, 5, 5, 64)          0         \n",
            "_________________________________________________________________\n",
            "flatten_1 (Flatten)          (None, 1600)              0         \n",
            "_________________________________________________________________\n",
            "dense_1 (Dense)              (None, 512)               819712    \n",
            "_________________________________________________________________\n",
            "dropout_1 (Dropout)          (None, 512)               0         \n",
            "_________________________________________________________________\n",
            "dense_2 (Dense)              (None, 1)                 513       \n",
            "=================================================================\n",
            "Total params: 1,217,953\n",
            "Trainable params: 1,217,953\n",
            "Non-trainable params: 0\n",
            "_________________________________________________________________\n"
          ],
          "name": "stdout"
        }
      ]
    },
    {
      "cell_type": "code",
      "metadata": {
        "id": "whBeeeaULWz-",
        "colab_type": "code",
        "outputId": "cb8eb84c-6ef8-4fb0-dda8-cd9416b70d69",
        "colab": {
          "base_uri": "https://localhost:8080/",
          "height": 35
        }
      },
      "source": [
        "model.compile(loss=\"binary_crossentropy\", \n",
        "             optimizer='rmsprop',\n",
        "             metrics=[\"accuracy\"])\n",
        "print(\"[INFO]: model compiled...\")"
      ],
      "execution_count": 0,
      "outputs": [
        {
          "output_type": "stream",
          "text": [
            "[INFO]: model compiled...\n"
          ],
          "name": "stdout"
        }
      ]
    },
    {
      "cell_type": "code",
      "metadata": {
        "id": "5yZkGaVoLa4n",
        "colab_type": "code",
        "outputId": "ea185450-62db-4f9f-f8bb-bea4e35157be",
        "colab": {
          "base_uri": "https://localhost:8080/",
          "height": 384
        }
      },
      "source": [
        "history = model.fit_generator(train_generator,  epochs=10, validation_data= valid_generator)"
      ],
      "execution_count": 0,
      "outputs": [
        {
          "output_type": "stream",
          "text": [
            "Epoch 1/10\n",
            "261/261 [==============================] - 48s 182ms/step - loss: 0.5908 - accuracy: 0.7446 - val_loss: 0.6896 - val_accuracy: 0.6250\n",
            "Epoch 2/10\n",
            "261/261 [==============================] - 48s 183ms/step - loss: 0.2647 - accuracy: 0.9066 - val_loss: 0.5104 - val_accuracy: 0.7500\n",
            "Epoch 3/10\n",
            "261/261 [==============================] - 48s 182ms/step - loss: 0.1663 - accuracy: 0.9373 - val_loss: 0.7352 - val_accuracy: 0.7500\n",
            "Epoch 4/10\n",
            "261/261 [==============================] - 48s 184ms/step - loss: 0.1310 - accuracy: 0.9496 - val_loss: 0.9628 - val_accuracy: 0.6875\n",
            "Epoch 5/10\n",
            "261/261 [==============================] - 48s 184ms/step - loss: 0.1210 - accuracy: 0.9590 - val_loss: 0.3117 - val_accuracy: 0.8750\n",
            "Epoch 6/10\n",
            "261/261 [==============================] - 48s 183ms/step - loss: 0.1169 - accuracy: 0.9632 - val_loss: 1.0453 - val_accuracy: 0.7500\n",
            "Epoch 7/10\n",
            "261/261 [==============================] - 48s 185ms/step - loss: 0.1162 - accuracy: 0.9638 - val_loss: 0.4840 - val_accuracy: 0.8125\n",
            "Epoch 8/10\n",
            "261/261 [==============================] - 49s 188ms/step - loss: 0.1092 - accuracy: 0.9688 - val_loss: 0.2752 - val_accuracy: 0.9375\n",
            "Epoch 9/10\n",
            "261/261 [==============================] - 50s 192ms/step - loss: 0.1081 - accuracy: 0.9691 - val_loss: 0.9558 - val_accuracy: 0.8125\n",
            "Epoch 10/10\n",
            "261/261 [==============================] - 51s 195ms/step - loss: 0.1494 - accuracy: 0.9712 - val_loss: 0.0387 - val_accuracy: 1.0000\n"
          ],
          "name": "stdout"
        }
      ]
    },
    {
      "cell_type": "code",
      "metadata": {
        "id": "ijrzEcD-S6O9",
        "colab_type": "code",
        "outputId": "0ba633ae-ea0b-4954-a371-505243291337",
        "colab": {
          "base_uri": "https://localhost:8080/",
          "height": 52
        }
      },
      "source": [
        "model.evaluate(test_generator)"
      ],
      "execution_count": 0,
      "outputs": [
        {
          "output_type": "stream",
          "text": [
            "32/32 [==============================] - 5s 166ms/step\n"
          ],
          "name": "stdout"
        },
        {
          "output_type": "execute_result",
          "data": {
            "text/plain": [
              "[0.5282440781593323, 0.7564102411270142]"
            ]
          },
          "metadata": {
            "tags": []
          },
          "execution_count": 26
        }
      ]
    },
    {
      "cell_type": "code",
      "metadata": {
        "id": "0eqZFe3VRUYZ",
        "colab_type": "code",
        "outputId": "c5ed4c99-b744-4fd3-f817-f390b526d020",
        "colab": {
          "base_uri": "https://localhost:8080/",
          "height": 545
        }
      },
      "source": [
        "import matplotlib.pyplot as plt\n",
        "\n",
        "acc= history.history['accuracy']\n",
        "val_acc = history.history['val_accuracy']\n",
        "loss=history.history['loss']\n",
        "val_loss=history.history['val_loss']\n",
        "\n",
        "epochs = range(1, len(acc)+1)\n",
        "\n",
        "plt.plot(epochs, acc, 'bo', label='Training Accuracy')\n",
        "plt.plot(epochs, val_acc, 'b', label='Validation Accuracy')\n",
        "plt.title('Training and Validation Accuracy')\n",
        "plt.legend()\n",
        "plt.figure()\n",
        "\n",
        "plt.plot(epochs, loss, 'bo', label='Training Loss')\n",
        "plt.plot(epochs, val_loss, 'b', label='Validation Loss')\n",
        "plt.title('Training and Validation Loss')\n",
        "plt.legend()\n",
        "\n",
        "plt.show()"
      ],
      "execution_count": 0,
      "outputs": [
        {
          "output_type": "display_data",
          "data": {
            "image/png": "[encoded data removed]",
            "text/plain": [
              "<Figure size 432x288 with 1 Axes>"
            ]
          },
          "metadata": {
            "tags": [],
            "needs_background": "light"
          }
        },
        {
          "output_type": "display_data",
          "data": {
            "image/png": "[encoded data removed]",
            "text/plain": [
              "<Figure size 432x288 with 1 Axes>"
            ]
          },
          "metadata": {
            "tags": [],
            "needs_background": "light"
          }
        }
      ]
    },
    {
      "cell_type": "markdown",
      "metadata": {
        "id": "6OMC85P7Qxgi",
        "colab_type": "text"
      },
      "source": [
        "# Model With Data Augmentation"
      ]
    },
    {
      "cell_type": "code",
      "metadata": {
        "id": "h9Sssq4CQv2Z",
        "colab_type": "code",
        "outputId": "ba69bd6f-5c9e-4144-e53c-3eff3181cac9",
        "colab": {
          "base_uri": "https://localhost:8080/",
          "height": 69
        }
      },
      "source": [
        "#we are using ImageDataGenerator to read images from directories\n",
        "from keras.preprocessing.image import ImageDataGenerator\n",
        "\n",
        "train_datagen = ImageDataGenerator(rescale=1/255, shear_range=0.2,\n",
        "    zoom_range=0.2,\n",
        "    horizontal_flip=True)\n",
        "test_datagen= ImageDataGenerator(rescale=1/255)\n",
        "valid_datagen= ImageDataGenerator(rescale=1/255)\n",
        "\n",
        "train_generator = train_datagen.flow_from_directory(\n",
        "   train_data_dir,\n",
        "     target_size=(150,150), class_mode= \"binary\",  batch_size=20)\n",
        "\n",
        "test_generator= test_datagen.flow_from_directory(\n",
        "    test_data_dir, \n",
        "     target_size=(150,150),\n",
        "    batch_size=20,\n",
        "    class_mode='binary')\n",
        "\n",
        "\n",
        "valid_generator= valid_datagen.flow_from_directory(\n",
        "   validation_data_dir , \n",
        "     target_size=(150,150),\n",
        "    batch_size=20,\n",
        "    class_mode='binary')"
      ],
      "execution_count": 0,
      "outputs": [
        {
          "output_type": "stream",
          "text": [
            "Found 5216 images belonging to 2 classes.\n",
            "Found 624 images belonging to 2 classes.\n",
            "Found 16 images belonging to 2 classes.\n"
          ],
          "name": "stdout"
        }
      ]
    },
    {
      "cell_type": "code",
      "metadata": {
        "id": "9mBrOmHSRNZu",
        "colab_type": "code",
        "colab": {}
      },
      "source": [
        "from keras import backend\n",
        "backend.clear_session()"
      ],
      "execution_count": 0,
      "outputs": []
    },
    {
      "cell_type": "code",
      "metadata": {
        "id": "DZkQPOS4RbNZ",
        "colab_type": "code",
        "colab": {}
      },
      "source": [
        "from keras import models\n",
        "from keras import layers\n",
        "from keras.layers import Conv2D\n",
        "from keras.layers import Conv2D, MaxPooling2D\n",
        "from keras.layers import Activation, Dropout, Flatten, Dense\n",
        "\n",
        "model = models.Sequential()\n",
        "model.add(Conv2D(32, (3, 3), input_shape=input_shape))\n",
        "model.add(Activation('relu'))\n",
        "model.add(MaxPooling2D(pool_size=(2, 2)))\n",
        "\n",
        "model.add(Conv2D(32, (3, 3)))\n",
        "model.add(Activation('relu'))\n",
        "model.add(MaxPooling2D(pool_size=(2, 2)))\n",
        "\n",
        "model.add(Conv2D(64, (3, 3)))\n",
        "model.add(Activation('relu'))\n",
        "model.add(MaxPooling2D(pool_size=(2, 2)))\n",
        "\n",
        "model.add(Flatten())\n",
        "model.add(Dense(64))\n",
        "model.add(Activation('relu'))\n",
        "model.add(Dropout(0.5))\n",
        "model.add(Dense(1))\n",
        "model.add(Activation('sigmoid'))"
      ],
      "execution_count": 0,
      "outputs": []
    },
    {
      "cell_type": "code",
      "metadata": {
        "id": "EncthMWpR-C1",
        "colab_type": "code",
        "outputId": "64f82b30-a1c4-4ae0-da34-4252a7c89578",
        "colab": {
          "base_uri": "https://localhost:8080/",
          "height": 35
        }
      },
      "source": [
        "model.compile(loss=\"binary_crossentropy\", \n",
        "             optimizer='rmsprop',\n",
        "             metrics=[\"accuracy\"])\n",
        "print(\"[INFO]: model compiled...\")"
      ],
      "execution_count": 0,
      "outputs": [
        {
          "output_type": "stream",
          "text": [
            "[INFO]: model compiled...\n"
          ],
          "name": "stdout"
        }
      ]
    },
    {
      "cell_type": "code",
      "metadata": {
        "id": "QmPr4cmnSGSN",
        "colab_type": "code",
        "outputId": "043db7cd-4a00-4bca-8a27-882e7773457a",
        "colab": {
          "base_uri": "https://localhost:8080/",
          "height": 384
        }
      },
      "source": [
        "history1 = model.fit_generator(train_generator, steps_per_epoch=nb_train_samples // batch_size,  epochs=10, validation_data= valid_generator, validation_steps=nb_validation_samples // batch_size)"
      ],
      "execution_count": 0,
      "outputs": [
        {
          "output_type": "stream",
          "text": [
            "Epoch 1/10\n",
            "260/260 [==============================] - 68s 262ms/step - loss: 0.4443 - accuracy: 0.8172 - val_loss: 0.6042 - val_accuracy: 0.6875\n",
            "Epoch 2/10\n",
            "260/260 [==============================] - 66s 254ms/step - loss: 0.3020 - accuracy: 0.8863 - val_loss: 0.5433 - val_accuracy: 0.8125\n",
            "Epoch 3/10\n",
            "260/260 [==============================] - 65s 252ms/step - loss: 0.2317 - accuracy: 0.9126 - val_loss: 2.0892 - val_accuracy: 0.6250\n",
            "Epoch 4/10\n",
            "260/260 [==============================] - 67s 256ms/step - loss: 0.2168 - accuracy: 0.9178 - val_loss: 1.8662 - val_accuracy: 0.6250\n",
            "Epoch 5/10\n",
            "260/260 [==============================] - 67s 257ms/step - loss: 0.2062 - accuracy: 0.9292 - val_loss: 2.0181 - val_accuracy: 0.6250\n",
            "Epoch 6/10\n",
            "260/260 [==============================] - 66s 253ms/step - loss: 0.1916 - accuracy: 0.9319 - val_loss: 0.9772 - val_accuracy: 0.6875\n",
            "Epoch 7/10\n",
            "260/260 [==============================] - 65s 249ms/step - loss: 0.1852 - accuracy: 0.9319 - val_loss: 1.9770 - val_accuracy: 0.6250\n",
            "Epoch 8/10\n",
            "260/260 [==============================] - 65s 251ms/step - loss: 0.1718 - accuracy: 0.9419 - val_loss: 0.5651 - val_accuracy: 0.7500\n",
            "Epoch 9/10\n",
            "260/260 [==============================] - 65s 251ms/step - loss: 0.1645 - accuracy: 0.9449 - val_loss: 0.9492 - val_accuracy: 0.6250\n",
            "Epoch 10/10\n",
            "260/260 [==============================] - 66s 252ms/step - loss: 0.1758 - accuracy: 0.9373 - val_loss: 0.5532 - val_accuracy: 0.8125\n"
          ],
          "name": "stdout"
        }
      ]
    },
    {
      "cell_type": "code",
      "metadata": {
        "id": "Z_1FSSMdS2GJ",
        "colab_type": "code",
        "outputId": "5eb34f91-a32e-48d9-f626-1be037545d2b",
        "colab": {
          "base_uri": "https://localhost:8080/",
          "height": 52
        }
      },
      "source": [
        "model.evaluate(test_generator)"
      ],
      "execution_count": 0,
      "outputs": [
        {
          "output_type": "stream",
          "text": [
            "32/32 [==============================] - 5s 150ms/step\n"
          ],
          "name": "stdout"
        },
        {
          "output_type": "execute_result",
          "data": {
            "text/plain": [
              "[1.9785579442977905, 0.8782051205635071]"
            ]
          },
          "metadata": {
            "tags": []
          },
          "execution_count": 47
        }
      ]
    },
    {
      "cell_type": "code",
      "metadata": {
        "id": "bbi1o4Q9RXD4",
        "colab_type": "code",
        "outputId": "11f5a8a5-27dc-4f10-8128-28dcacc01fc6",
        "colab": {
          "base_uri": "https://localhost:8080/",
          "height": 545
        }
      },
      "source": [
        "import matplotlib.pyplot as plt\n",
        "\n",
        "acc= history1.history['accuracy']\n",
        "val_acc = history1.history['val_accuracy']\n",
        "loss=history1.history['loss']\n",
        "val_loss=history1.history['val_loss']\n",
        "\n",
        "epochs = range(1, len(acc)+1)\n",
        "\n",
        "plt.plot(epochs, acc, 'bo', label='Training Accuracy')\n",
        "plt.plot(epochs, val_acc, 'b', label='Validation Accuracy')\n",
        "plt.title('Training and Validation Accuracy')\n",
        "plt.legend()\n",
        "plt.figure()\n",
        "\n",
        "plt.plot(epochs, loss, 'bo', label='Training Loss')\n",
        "plt.plot(epochs, val_loss, 'b', label='Validation Loss')\n",
        "plt.title('Training and Validation Loss')\n",
        "plt.legend()\n",
        "\n",
        "plt.show()"
      ],
      "execution_count": 0,
      "outputs": [
        {
          "output_type": "display_data",
          "data": {
            "image/png": "[encoded data removed]",
            "text/plain": [
              "<Figure size 432x288 with 1 Axes>"
            ]
          },
          "metadata": {
            "tags": [],
            "needs_background": "light"
          }
        },
        {
          "output_type": "display_data",
          "data": {
            "image/png": "[encoded data removed]",
            "text/plain": [
              "<Figure size 432x288 with 1 Axes>"
            ]
          },
          "metadata": {
            "tags": [],
            "needs_background": "light"
          }
        }
      ]
    }
  ]
}